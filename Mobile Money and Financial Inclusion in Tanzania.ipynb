{
 "cells": [
  {
   "cell_type": "code",
   "execution_count": 1,
   "metadata": {},
   "outputs": [],
   "source": [
    "import pandas as pd\n",
    "import matplotlib.pyplot as plt\n",
    "import numpy as np"
   ]
  },
  {
   "cell_type": "code",
   "execution_count": 2,
   "metadata": {},
   "outputs": [],
   "source": [
    "tanzania_data = pd.read_csv('datasets/training.csv')"
   ]
  },
  {
   "cell_type": "code",
   "execution_count": 3,
   "metadata": {},
   "outputs": [
    {
     "data": {
      "text/html": [
       "<div>\n",
       "<style scoped>\n",
       "    .dataframe tbody tr th:only-of-type {\n",
       "        vertical-align: middle;\n",
       "    }\n",
       "\n",
       "    .dataframe tbody tr th {\n",
       "        vertical-align: top;\n",
       "    }\n",
       "\n",
       "    .dataframe thead th {\n",
       "        text-align: right;\n",
       "    }\n",
       "</style>\n",
       "<table border=\"1\" class=\"dataframe\">\n",
       "  <thead>\n",
       "    <tr style=\"text-align: right;\">\n",
       "      <th></th>\n",
       "      <th>ID</th>\n",
       "      <th>Q1</th>\n",
       "      <th>Q2</th>\n",
       "      <th>Q3</th>\n",
       "      <th>Q4</th>\n",
       "      <th>Q5</th>\n",
       "      <th>Q6</th>\n",
       "      <th>Q7</th>\n",
       "      <th>Q8_1</th>\n",
       "      <th>Q8_2</th>\n",
       "      <th>...</th>\n",
       "      <th>Q17</th>\n",
       "      <th>Q18</th>\n",
       "      <th>Q19</th>\n",
       "      <th>Latitude</th>\n",
       "      <th>Longitude</th>\n",
       "      <th>mobile_money</th>\n",
       "      <th>savings</th>\n",
       "      <th>borrowing</th>\n",
       "      <th>insurance</th>\n",
       "      <th>mobile_money_classification</th>\n",
       "    </tr>\n",
       "  </thead>\n",
       "  <tbody>\n",
       "    <tr>\n",
       "      <th>0</th>\n",
       "      <td>5086</td>\n",
       "      <td>98</td>\n",
       "      <td>2</td>\n",
       "      <td>3</td>\n",
       "      <td>1</td>\n",
       "      <td>1</td>\n",
       "      <td>2</td>\n",
       "      <td>2</td>\n",
       "      <td>0</td>\n",
       "      <td>0</td>\n",
       "      <td>...</td>\n",
       "      <td>-1</td>\n",
       "      <td>4</td>\n",
       "      <td>4</td>\n",
       "      <td>-4.460442</td>\n",
       "      <td>29.811396</td>\n",
       "      <td>0</td>\n",
       "      <td>0</td>\n",
       "      <td>0</td>\n",
       "      <td>0</td>\n",
       "      <td>0</td>\n",
       "    </tr>\n",
       "    <tr>\n",
       "      <th>1</th>\n",
       "      <td>1258</td>\n",
       "      <td>40</td>\n",
       "      <td>1</td>\n",
       "      <td>1</td>\n",
       "      <td>3</td>\n",
       "      <td>5</td>\n",
       "      <td>1</td>\n",
       "      <td>1</td>\n",
       "      <td>1</td>\n",
       "      <td>0</td>\n",
       "      <td>...</td>\n",
       "      <td>4</td>\n",
       "      <td>1</td>\n",
       "      <td>4</td>\n",
       "      <td>-6.176438</td>\n",
       "      <td>39.244871</td>\n",
       "      <td>1</td>\n",
       "      <td>1</td>\n",
       "      <td>1</td>\n",
       "      <td>0</td>\n",
       "      <td>3</td>\n",
       "    </tr>\n",
       "    <tr>\n",
       "      <th>2</th>\n",
       "      <td>331</td>\n",
       "      <td>18</td>\n",
       "      <td>2</td>\n",
       "      <td>4</td>\n",
       "      <td>6</td>\n",
       "      <td>3</td>\n",
       "      <td>2</td>\n",
       "      <td>1</td>\n",
       "      <td>0</td>\n",
       "      <td>0</td>\n",
       "      <td>...</td>\n",
       "      <td>-1</td>\n",
       "      <td>1</td>\n",
       "      <td>1</td>\n",
       "      <td>-6.825702</td>\n",
       "      <td>37.652798</td>\n",
       "      <td>1</td>\n",
       "      <td>0</td>\n",
       "      <td>0</td>\n",
       "      <td>0</td>\n",
       "      <td>2</td>\n",
       "    </tr>\n",
       "    <tr>\n",
       "      <th>3</th>\n",
       "      <td>6729</td>\n",
       "      <td>50</td>\n",
       "      <td>1</td>\n",
       "      <td>1</td>\n",
       "      <td>3</td>\n",
       "      <td>1</td>\n",
       "      <td>1</td>\n",
       "      <td>1</td>\n",
       "      <td>0</td>\n",
       "      <td>0</td>\n",
       "      <td>...</td>\n",
       "      <td>-1</td>\n",
       "      <td>1</td>\n",
       "      <td>4</td>\n",
       "      <td>-3.372049</td>\n",
       "      <td>35.808307</td>\n",
       "      <td>1</td>\n",
       "      <td>0</td>\n",
       "      <td>1</td>\n",
       "      <td>0</td>\n",
       "      <td>3</td>\n",
       "    </tr>\n",
       "    <tr>\n",
       "      <th>4</th>\n",
       "      <td>8671</td>\n",
       "      <td>34</td>\n",
       "      <td>1</td>\n",
       "      <td>1</td>\n",
       "      <td>1</td>\n",
       "      <td>1</td>\n",
       "      <td>2</td>\n",
       "      <td>1</td>\n",
       "      <td>0</td>\n",
       "      <td>1</td>\n",
       "      <td>...</td>\n",
       "      <td>-1</td>\n",
       "      <td>1</td>\n",
       "      <td>4</td>\n",
       "      <td>-7.179645</td>\n",
       "      <td>31.039095</td>\n",
       "      <td>1</td>\n",
       "      <td>1</td>\n",
       "      <td>0</td>\n",
       "      <td>1</td>\n",
       "      <td>3</td>\n",
       "    </tr>\n",
       "  </tbody>\n",
       "</table>\n",
       "<p>5 rows × 37 columns</p>\n",
       "</div>"
      ],
      "text/plain": [
       "     ID  Q1  Q2  Q3  Q4  Q5  Q6  Q7  Q8_1  Q8_2  ...  Q17  Q18  Q19  Latitude  \\\n",
       "0  5086  98   2   3   1   1   2   2     0     0  ...   -1    4    4 -4.460442   \n",
       "1  1258  40   1   1   3   5   1   1     1     0  ...    4    1    4 -6.176438   \n",
       "2   331  18   2   4   6   3   2   1     0     0  ...   -1    1    1 -6.825702   \n",
       "3  6729  50   1   1   3   1   1   1     0     0  ...   -1    1    4 -3.372049   \n",
       "4  8671  34   1   1   1   1   2   1     0     1  ...   -1    1    4 -7.179645   \n",
       "\n",
       "   Longitude  mobile_money  savings  borrowing  insurance  \\\n",
       "0  29.811396             0        0          0          0   \n",
       "1  39.244871             1        1          1          0   \n",
       "2  37.652798             1        0          0          0   \n",
       "3  35.808307             1        0          1          0   \n",
       "4  31.039095             1        1          0          1   \n",
       "\n",
       "   mobile_money_classification  \n",
       "0                            0  \n",
       "1                            3  \n",
       "2                            2  \n",
       "3                            3  \n",
       "4                            3  \n",
       "\n",
       "[5 rows x 37 columns]"
      ]
     },
     "execution_count": 3,
     "metadata": {},
     "output_type": "execute_result"
    }
   ],
   "source": [
    "tanzania_data.head()"
   ]
  },
  {
   "cell_type": "code",
   "execution_count": 4,
   "metadata": {},
   "outputs": [
    {
     "name": "stdout",
     "output_type": "stream",
     "text": [
      "ID                             False\n",
      "Q1                             False\n",
      "Q2                             False\n",
      "Q3                             False\n",
      "Q4                             False\n",
      "Q5                             False\n",
      "Q6                             False\n",
      "Q7                             False\n",
      "Q8_1                           False\n",
      "Q8_2                           False\n",
      "Q8_3                           False\n",
      "Q8_4                           False\n",
      "Q8_5                           False\n",
      "Q8_6                           False\n",
      "Q8_7                           False\n",
      "Q8_8                           False\n",
      "Q8_9                           False\n",
      "Q8_10                          False\n",
      "Q8_11                          False\n",
      "Q9                             False\n",
      "Q10                            False\n",
      "Q11                            False\n",
      "Q12                            False\n",
      "Q13                            False\n",
      "Q14                            False\n",
      "Q15                            False\n",
      "Q16                            False\n",
      "Q17                            False\n",
      "Q18                            False\n",
      "Q19                            False\n",
      "Latitude                       False\n",
      "Longitude                      False\n",
      "mobile_money                   False\n",
      "savings                        False\n",
      "borrowing                      False\n",
      "insurance                      False\n",
      "mobile_money_classification    False\n",
      "dtype: bool\n"
     ]
    }
   ],
   "source": [
    "# Checking if there is any missing values in the dataset\n",
    "print(tanzania_data.isnull().any())"
   ]
  },
  {
   "cell_type": "code",
   "execution_count": 5,
   "metadata": {},
   "outputs": [
    {
     "name": "stdout",
     "output_type": "stream",
     "text": [
      "Empty DataFrame\n",
      "Columns: [ID, Q1, Q2, Q3, Q4, Q5, Q6, Q7, Q8_1, Q8_2, Q8_3, Q8_4, Q8_5, Q8_6, Q8_7, Q8_8, Q8_9, Q8_10, Q8_11, Q9, Q10, Q11, Q12, Q13, Q14, Q15, Q16, Q17, Q18, Q19, Latitude, Longitude, mobile_money, savings, borrowing, insurance, mobile_money_classification]\n",
      "Index: []\n",
      "\n",
      "[0 rows x 37 columns]\n"
     ]
    }
   ],
   "source": [
    "# Making sure there are no duplicates in the ID field\n",
    "print(tanzania_data[tanzania_data.duplicated(subset='ID', keep='first')])"
   ]
  },
  {
   "cell_type": "code",
   "execution_count": 6,
   "metadata": {},
   "outputs": [
    {
     "data": {
      "text/html": [
       "<div>\n",
       "<style scoped>\n",
       "    .dataframe tbody tr th:only-of-type {\n",
       "        vertical-align: middle;\n",
       "    }\n",
       "\n",
       "    .dataframe tbody tr th {\n",
       "        vertical-align: top;\n",
       "    }\n",
       "\n",
       "    .dataframe thead th {\n",
       "        text-align: right;\n",
       "    }\n",
       "</style>\n",
       "<table border=\"1\" class=\"dataframe\">\n",
       "  <thead>\n",
       "    <tr style=\"text-align: right;\">\n",
       "      <th></th>\n",
       "      <th>ID</th>\n",
       "      <th>Q1</th>\n",
       "      <th>Q2</th>\n",
       "      <th>Q3</th>\n",
       "      <th>Q4</th>\n",
       "      <th>Q5</th>\n",
       "      <th>Q6</th>\n",
       "      <th>Q7</th>\n",
       "      <th>Q8_1</th>\n",
       "      <th>Q8_2</th>\n",
       "      <th>...</th>\n",
       "      <th>Q17</th>\n",
       "      <th>Q18</th>\n",
       "      <th>Q19</th>\n",
       "      <th>Latitude</th>\n",
       "      <th>Longitude</th>\n",
       "      <th>mobile_money</th>\n",
       "      <th>savings</th>\n",
       "      <th>borrowing</th>\n",
       "      <th>insurance</th>\n",
       "      <th>mobile_money_classification</th>\n",
       "    </tr>\n",
       "  </thead>\n",
       "  <tbody>\n",
       "    <tr>\n",
       "      <th>1</th>\n",
       "      <td>1258</td>\n",
       "      <td>40</td>\n",
       "      <td>1</td>\n",
       "      <td>1</td>\n",
       "      <td>3</td>\n",
       "      <td>5</td>\n",
       "      <td>1</td>\n",
       "      <td>1</td>\n",
       "      <td>1</td>\n",
       "      <td>0</td>\n",
       "      <td>...</td>\n",
       "      <td>4</td>\n",
       "      <td>1</td>\n",
       "      <td>4</td>\n",
       "      <td>-6.176438</td>\n",
       "      <td>39.244871</td>\n",
       "      <td>1</td>\n",
       "      <td>1</td>\n",
       "      <td>1</td>\n",
       "      <td>0</td>\n",
       "      <td>3</td>\n",
       "    </tr>\n",
       "    <tr>\n",
       "      <th>3</th>\n",
       "      <td>6729</td>\n",
       "      <td>50</td>\n",
       "      <td>1</td>\n",
       "      <td>1</td>\n",
       "      <td>3</td>\n",
       "      <td>1</td>\n",
       "      <td>1</td>\n",
       "      <td>1</td>\n",
       "      <td>0</td>\n",
       "      <td>0</td>\n",
       "      <td>...</td>\n",
       "      <td>-1</td>\n",
       "      <td>1</td>\n",
       "      <td>4</td>\n",
       "      <td>-3.372049</td>\n",
       "      <td>35.808307</td>\n",
       "      <td>1</td>\n",
       "      <td>0</td>\n",
       "      <td>1</td>\n",
       "      <td>0</td>\n",
       "      <td>3</td>\n",
       "    </tr>\n",
       "    <tr>\n",
       "      <th>4</th>\n",
       "      <td>8671</td>\n",
       "      <td>34</td>\n",
       "      <td>1</td>\n",
       "      <td>1</td>\n",
       "      <td>1</td>\n",
       "      <td>1</td>\n",
       "      <td>2</td>\n",
       "      <td>1</td>\n",
       "      <td>0</td>\n",
       "      <td>1</td>\n",
       "      <td>...</td>\n",
       "      <td>-1</td>\n",
       "      <td>1</td>\n",
       "      <td>4</td>\n",
       "      <td>-7.179645</td>\n",
       "      <td>31.039095</td>\n",
       "      <td>1</td>\n",
       "      <td>1</td>\n",
       "      <td>0</td>\n",
       "      <td>1</td>\n",
       "      <td>3</td>\n",
       "    </tr>\n",
       "    <tr>\n",
       "      <th>5</th>\n",
       "      <td>5462</td>\n",
       "      <td>35</td>\n",
       "      <td>1</td>\n",
       "      <td>1</td>\n",
       "      <td>3</td>\n",
       "      <td>3</td>\n",
       "      <td>2</td>\n",
       "      <td>1</td>\n",
       "      <td>0</td>\n",
       "      <td>1</td>\n",
       "      <td>...</td>\n",
       "      <td>-1</td>\n",
       "      <td>1</td>\n",
       "      <td>1</td>\n",
       "      <td>-6.362331</td>\n",
       "      <td>37.137741</td>\n",
       "      <td>0</td>\n",
       "      <td>0</td>\n",
       "      <td>1</td>\n",
       "      <td>0</td>\n",
       "      <td>1</td>\n",
       "    </tr>\n",
       "    <tr>\n",
       "      <th>12</th>\n",
       "      <td>8863</td>\n",
       "      <td>28</td>\n",
       "      <td>1</td>\n",
       "      <td>1</td>\n",
       "      <td>3</td>\n",
       "      <td>3</td>\n",
       "      <td>2</td>\n",
       "      <td>2</td>\n",
       "      <td>0</td>\n",
       "      <td>1</td>\n",
       "      <td>...</td>\n",
       "      <td>-1</td>\n",
       "      <td>1</td>\n",
       "      <td>4</td>\n",
       "      <td>-10.743503</td>\n",
       "      <td>34.733084</td>\n",
       "      <td>0</td>\n",
       "      <td>1</td>\n",
       "      <td>1</td>\n",
       "      <td>0</td>\n",
       "      <td>1</td>\n",
       "    </tr>\n",
       "  </tbody>\n",
       "</table>\n",
       "<p>5 rows × 37 columns</p>\n",
       "</div>"
      ],
      "text/plain": [
       "      ID  Q1  Q2  Q3  Q4  Q5  Q6  Q7  Q8_1  Q8_2  ...  Q17  Q18  Q19  \\\n",
       "1   1258  40   1   1   3   5   1   1     1     0  ...    4    1    4   \n",
       "3   6729  50   1   1   3   1   1   1     0     0  ...   -1    1    4   \n",
       "4   8671  34   1   1   1   1   2   1     0     1  ...   -1    1    4   \n",
       "5   5462  35   1   1   3   3   2   1     0     1  ...   -1    1    1   \n",
       "12  8863  28   1   1   3   3   2   2     0     1  ...   -1    1    4   \n",
       "\n",
       "     Latitude  Longitude  mobile_money  savings  borrowing  insurance  \\\n",
       "1   -6.176438  39.244871             1        1          1          0   \n",
       "3   -3.372049  35.808307             1        0          1          0   \n",
       "4   -7.179645  31.039095             1        1          0          1   \n",
       "5   -6.362331  37.137741             0        0          1          0   \n",
       "12 -10.743503  34.733084             0        1          1          0   \n",
       "\n",
       "    mobile_money_classification  \n",
       "1                             3  \n",
       "3                             3  \n",
       "4                             3  \n",
       "5                             1  \n",
       "12                            1  \n",
       "\n",
       "[5 rows x 37 columns]"
      ]
     },
     "execution_count": 6,
     "metadata": {},
     "output_type": "execute_result"
    }
   ],
   "source": [
    "males = tanzania_data[tanzania_data.Q2 == 1]\n",
    "females = tanzania_data[tanzania_data.Q2 == 2]\n",
    "males.head()"
   ]
  },
  {
   "cell_type": "code",
   "execution_count": 7,
   "metadata": {},
   "outputs": [
    {
     "data": {
      "text/html": [
       "<div>\n",
       "<style scoped>\n",
       "    .dataframe tbody tr th:only-of-type {\n",
       "        vertical-align: middle;\n",
       "    }\n",
       "\n",
       "    .dataframe tbody tr th {\n",
       "        vertical-align: top;\n",
       "    }\n",
       "\n",
       "    .dataframe thead th {\n",
       "        text-align: right;\n",
       "    }\n",
       "</style>\n",
       "<table border=\"1\" class=\"dataframe\">\n",
       "  <thead>\n",
       "    <tr style=\"text-align: right;\">\n",
       "      <th></th>\n",
       "      <th>ID</th>\n",
       "      <th>Q1</th>\n",
       "      <th>Q2</th>\n",
       "      <th>Q3</th>\n",
       "      <th>Q4</th>\n",
       "      <th>Q5</th>\n",
       "      <th>Q6</th>\n",
       "      <th>Q7</th>\n",
       "      <th>Q8_1</th>\n",
       "      <th>Q8_2</th>\n",
       "      <th>...</th>\n",
       "      <th>Q17</th>\n",
       "      <th>Q18</th>\n",
       "      <th>Q19</th>\n",
       "      <th>Latitude</th>\n",
       "      <th>Longitude</th>\n",
       "      <th>mobile_money</th>\n",
       "      <th>savings</th>\n",
       "      <th>borrowing</th>\n",
       "      <th>insurance</th>\n",
       "      <th>mobile_money_classification</th>\n",
       "    </tr>\n",
       "  </thead>\n",
       "  <tbody>\n",
       "    <tr>\n",
       "      <th>0</th>\n",
       "      <td>5086</td>\n",
       "      <td>98</td>\n",
       "      <td>2</td>\n",
       "      <td>3</td>\n",
       "      <td>1</td>\n",
       "      <td>1</td>\n",
       "      <td>2</td>\n",
       "      <td>2</td>\n",
       "      <td>0</td>\n",
       "      <td>0</td>\n",
       "      <td>...</td>\n",
       "      <td>-1</td>\n",
       "      <td>4</td>\n",
       "      <td>4</td>\n",
       "      <td>-4.460442</td>\n",
       "      <td>29.811396</td>\n",
       "      <td>0</td>\n",
       "      <td>0</td>\n",
       "      <td>0</td>\n",
       "      <td>0</td>\n",
       "      <td>0</td>\n",
       "    </tr>\n",
       "    <tr>\n",
       "      <th>2</th>\n",
       "      <td>331</td>\n",
       "      <td>18</td>\n",
       "      <td>2</td>\n",
       "      <td>4</td>\n",
       "      <td>6</td>\n",
       "      <td>3</td>\n",
       "      <td>2</td>\n",
       "      <td>1</td>\n",
       "      <td>0</td>\n",
       "      <td>0</td>\n",
       "      <td>...</td>\n",
       "      <td>-1</td>\n",
       "      <td>1</td>\n",
       "      <td>1</td>\n",
       "      <td>-6.825702</td>\n",
       "      <td>37.652798</td>\n",
       "      <td>1</td>\n",
       "      <td>0</td>\n",
       "      <td>0</td>\n",
       "      <td>0</td>\n",
       "      <td>2</td>\n",
       "    </tr>\n",
       "    <tr>\n",
       "      <th>6</th>\n",
       "      <td>4886</td>\n",
       "      <td>31</td>\n",
       "      <td>2</td>\n",
       "      <td>1</td>\n",
       "      <td>3</td>\n",
       "      <td>1</td>\n",
       "      <td>2</td>\n",
       "      <td>1</td>\n",
       "      <td>0</td>\n",
       "      <td>1</td>\n",
       "      <td>...</td>\n",
       "      <td>-1</td>\n",
       "      <td>1</td>\n",
       "      <td>2</td>\n",
       "      <td>-8.089257</td>\n",
       "      <td>35.836415</td>\n",
       "      <td>1</td>\n",
       "      <td>1</td>\n",
       "      <td>1</td>\n",
       "      <td>1</td>\n",
       "      <td>3</td>\n",
       "    </tr>\n",
       "    <tr>\n",
       "      <th>7</th>\n",
       "      <td>621</td>\n",
       "      <td>23</td>\n",
       "      <td>2</td>\n",
       "      <td>4</td>\n",
       "      <td>5</td>\n",
       "      <td>5</td>\n",
       "      <td>2</td>\n",
       "      <td>1</td>\n",
       "      <td>0</td>\n",
       "      <td>0</td>\n",
       "      <td>...</td>\n",
       "      <td>1</td>\n",
       "      <td>2</td>\n",
       "      <td>2</td>\n",
       "      <td>-8.916028</td>\n",
       "      <td>33.433904</td>\n",
       "      <td>1</td>\n",
       "      <td>1</td>\n",
       "      <td>0</td>\n",
       "      <td>0</td>\n",
       "      <td>3</td>\n",
       "    </tr>\n",
       "    <tr>\n",
       "      <th>8</th>\n",
       "      <td>8302</td>\n",
       "      <td>56</td>\n",
       "      <td>2</td>\n",
       "      <td>3</td>\n",
       "      <td>3</td>\n",
       "      <td>3</td>\n",
       "      <td>2</td>\n",
       "      <td>2</td>\n",
       "      <td>0</td>\n",
       "      <td>1</td>\n",
       "      <td>...</td>\n",
       "      <td>-1</td>\n",
       "      <td>1</td>\n",
       "      <td>1</td>\n",
       "      <td>-3.972247</td>\n",
       "      <td>32.649951</td>\n",
       "      <td>0</td>\n",
       "      <td>1</td>\n",
       "      <td>1</td>\n",
       "      <td>0</td>\n",
       "      <td>1</td>\n",
       "    </tr>\n",
       "  </tbody>\n",
       "</table>\n",
       "<p>5 rows × 37 columns</p>\n",
       "</div>"
      ],
      "text/plain": [
       "     ID  Q1  Q2  Q3  Q4  Q5  Q6  Q7  Q8_1  Q8_2  ...  Q17  Q18  Q19  Latitude  \\\n",
       "0  5086  98   2   3   1   1   2   2     0     0  ...   -1    4    4 -4.460442   \n",
       "2   331  18   2   4   6   3   2   1     0     0  ...   -1    1    1 -6.825702   \n",
       "6  4886  31   2   1   3   1   2   1     0     1  ...   -1    1    2 -8.089257   \n",
       "7   621  23   2   4   5   5   2   1     0     0  ...    1    2    2 -8.916028   \n",
       "8  8302  56   2   3   3   3   2   2     0     1  ...   -1    1    1 -3.972247   \n",
       "\n",
       "   Longitude  mobile_money  savings  borrowing  insurance  \\\n",
       "0  29.811396             0        0          0          0   \n",
       "2  37.652798             1        0          0          0   \n",
       "6  35.836415             1        1          1          1   \n",
       "7  33.433904             1        1          0          0   \n",
       "8  32.649951             0        1          1          0   \n",
       "\n",
       "   mobile_money_classification  \n",
       "0                            0  \n",
       "2                            2  \n",
       "6                            3  \n",
       "7                            3  \n",
       "8                            1  \n",
       "\n",
       "[5 rows x 37 columns]"
      ]
     },
     "execution_count": 7,
     "metadata": {},
     "output_type": "execute_result"
    }
   ],
   "source": [
    "females.head()"
   ]
  },
  {
   "cell_type": "code",
   "execution_count": 8,
   "metadata": {},
   "outputs": [],
   "source": [
    "x = len(females)"
   ]
  },
  {
   "cell_type": "code",
   "execution_count": 9,
   "metadata": {
    "scrolled": true
   },
   "outputs": [
    {
     "data": {
      "image/png": "[encoded data removed]",
      "text/plain": [
       "<Figure size 432x288 with 2 Axes>"
      ]
     },
     "metadata": {},
     "output_type": "display_data"
    }
   ],
   "source": [
    "# Comparison of females with mobile money and females without mobile money\n",
    "plt.subplot(1,2,1)\n",
    "total = len(females[females.mobile_money == 1]) + len(females[females.mobile_money == 0])\n",
    "y = len(females[females.mobile_money == 1]) / total * 100\n",
    "z = len(females[females.mobile_money == 0]) /total * 100\n",
    "plt.pie([y, z], explode=(0,0.1),labels=['with mobile money', 'without mobile money'],autopct='%1.1f%%')\n",
    "plt.title('Females')\n",
    "\n",
    "# Comparison of males with mobile money and males without mobile money\n",
    "plt.subplot(1,2,2)\n",
    "total = len(males[males.mobile_money == 1]) + len(males[males.mobile_money == 0])\n",
    "y = len(males[males.mobile_money == 1]) / total * 100\n",
    "z = len(males[males.mobile_money == 0]) /total * 100\n",
    "plt.pie([y, z], explode=(0,0.1),labels=['', 'without mobile money'],autopct='%1.1f%%')\n",
    "plt.title('Males')\n",
    "\n",
    "plt.show()"
   ]
  },
  {
   "cell_type": "code",
   "execution_count": 10,
   "metadata": {},
   "outputs": [
    {
     "data": {
      "text/plain": [
       "35.531709791983765"
      ]
     },
     "execution_count": 10,
     "metadata": {},
     "output_type": "execute_result"
    }
   ],
   "source": [
    "# Average ages for people to have Mobile Money\n",
    "average_male_age = males[males.mobile_money == 1].Q1.mean()\n",
    "average_female_age = females[females.mobile_money == 1].Q1.mean()\n",
    "average_female_age"
   ]
  },
  {
   "cell_type": "code",
   "execution_count": 11,
   "metadata": {},
   "outputs": [],
   "source": [
    "# How each gender recieve money\n",
    "males_wages = males[males.Q8_1 == 1]\n",
    "males_trade = males[males.Q8_2 == 1]\n",
    "males_service = males[males.Q8_3 == 1]\n",
    "males_piece = males[males.Q8_4 == 1]\n",
    "males_rent = males[males.Q8_5 == 1]\n",
    "males_invest = males[males.Q8_6 == 1]\n",
    "males_pension = males[males.Q8_7 == 1]\n",
    "males_welfare = males[males.Q8_8 == 1]\n",
    "males_3rd_party = males[males.Q8_9 == 1]\n",
    "males_other = males[males.Q8_11 == 1]"
   ]
  },
  {
   "cell_type": "code",
   "execution_count": 12,
   "metadata": {},
   "outputs": [
    {
     "data": {
      "image/png": "[encoded data removed]",
      "text/plain": [
       "<Figure size 432x288 with 1 Axes>"
      ]
     },
     "metadata": {
      "needs_background": "light"
     },
     "output_type": "display_data"
    }
   ],
   "source": [
    "# Male sources of income\n",
    "male_sources_of_income = [males_wages, males_trade,males_service,males_piece,\n",
    "                          males_rent, males_invest, males_pension, males_welfare,\n",
    "                          males_3rd_party, males_other]\n",
    "sources_with_mm = []\n",
    "sources_without_mm = []\n",
    "\n",
    "for source in male_sources_of_income:\n",
    "    sources_with_mm.append(len(source[source.mobile_money == 1]))\n",
    "    sources_without_mm.append(len(source[source.mobile_money == 0]))\n",
    "\n",
    "# plt.subplot(2,1,2)\n",
    "plt.barh(np.arange(10), sources_with_mm, label='With Mobile Money')\n",
    "plt.barh(np.arange(10), sources_without_mm, left=sources_with_mm, label='Without Mobile Money')\n",
    "plt.title('Male Sources of Income')\n",
    "plt.yticks(np.arange(10), \n",
    "           ['wages', 'trading', 'services', \n",
    "           'piece jobs', 'renting', 'investments', \n",
    "           'pension', 'welfare', 'third party', 'other'])\n",
    "plt.legend(loc='upper right')\n",
    "plt.show()"
   ]
  },
  {
   "cell_type": "code",
   "execution_count": 13,
   "metadata": {},
   "outputs": [],
   "source": [
    "females_wages = females[females.Q8_1 == 1]\n",
    "females_trade = females[females.Q8_2 == 1]\n",
    "females_service = females[females.Q8_3 == 1]\n",
    "females_piece = females[females.Q8_4 == 1]\n",
    "females_rent = females[females.Q8_5 == 1]\n",
    "females_invest = females[females.Q8_6 == 1]\n",
    "females_pension = females[females.Q8_7 == 1]\n",
    "females_welfare = females[females.Q8_8 == 1]\n",
    "females_3rd_party = females[females.Q8_9 == 1]\n",
    "females_other = females[females.Q8_11 == 1]"
   ]
  },
  {
   "cell_type": "code",
   "execution_count": 14,
   "metadata": {},
   "outputs": [
    {
     "data": {
      "image/png": "[encoded data removed]",
      "text/plain": [
       "<Figure size 432x288 with 1 Axes>"
      ]
     },
     "metadata": {
      "needs_background": "light"
     },
     "output_type": "display_data"
    }
   ],
   "source": [
    "# Females sources of income\n",
    "female_sources_of_income = [females_wages, females_trade,females_service,females_piece,\n",
    "                            females_rent, females_invest, females_pension, females_welfare, \n",
    "                            females_3rd_party, females_other]\n",
    "sources_with_mm = []\n",
    "sources_without_mm = []\n",
    "\n",
    "for source in female_sources_of_income:\n",
    "    sources_with_mm.append(len(source[source.mobile_money == 1]))\n",
    "    sources_without_mm.append(len(source[source.mobile_money == 0]))\n",
    "\n",
    "# plt.subplot(2,1,2)\n",
    "plt.barh(np.arange(10), sources_with_mm, label='With Mobile Money')\n",
    "plt.barh(np.arange(10), sources_without_mm, left=sources_with_mm, label='Without Mobile Money')\n",
    "plt.title('Female Sources of Income')\n",
    "plt.yticks(np.arange(10), \n",
    "           ['wages', 'trading', 'services', \n",
    "           'piece jobs', 'renting', 'investments', \n",
    "           'pension', 'welfare', 'third party', 'other'])\n",
    "plt.legend(loc='upper right')\n",
    "plt.show()"
   ]
  },
  {
   "cell_type": "code",
   "execution_count": 15,
   "metadata": {},
   "outputs": [],
   "source": [
    "# Seperating individuals with different relationship statuses\n",
    "married = tanzania_data[tanzania_data.Q3 == 1]\n",
    "divorced = tanzania_data[tanzania_data.Q3 == 2]\n",
    "widowed = tanzania_data[tanzania_data.Q3 == 3]\n",
    "single = tanzania_data[tanzania_data.Q3 == 4]\n",
    "\n",
    "relationships = [married, divorced, widowed, single]"
   ]
  },
  {
   "cell_type": "code",
   "execution_count": 16,
   "metadata": {},
   "outputs": [
    {
     "data": {
      "image/png": "[encoded data removed]",
      "text/plain": [
       "<Figure size 432x288 with 1 Axes>"
      ]
     },
     "metadata": {
      "needs_background": "light"
     },
     "output_type": "display_data"
    }
   ],
   "source": [
    "len_relationships_with_mm = []\n",
    "len_relationships_without_mm = []\n",
    "\n",
    "for status in relationships:\n",
    "    len_relationships_with_mm.append(len(status[status.mobile_money == 1]))\n",
    "    len_relationships_without_mm.append(len(status[status.mobile_money == 0]))\n",
    "    \n",
    "plt.bar(np.arange(4), len_relationships_with_mm, label='With Mobile Money')\n",
    "plt.bar(np.arange(4), len_relationships_without_mm,  bottom=len_relationships_with_mm,label='Without Mobile Money')\n",
    "plt.xticks(np.arange(4), ['married', 'divorced', 'widowed', 'single'])\n",
    "plt.title('Maritial Relationships with Mobile Money')\n",
    "\n",
    "plt.legend(loc='upper right')\n",
    "plt.show()"
   ]
  },
  {
   "cell_type": "code",
   "execution_count": 17,
   "metadata": {},
   "outputs": [],
   "source": [
    "# Individuals who own land \n",
    "own_land = tanzania_data[tanzania_data.Q6 == 1]\n",
    "no_land = tanzania_data[tanzania_data.Q6 == 2]"
   ]
  },
  {
   "cell_type": "code",
   "execution_count": 18,
   "metadata": {},
   "outputs": [],
   "source": [
    "pple_with_land = len(own_land)\n",
    "pple_without_land = len(no_land)"
   ]
  },
  {
   "cell_type": "code",
   "execution_count": 19,
   "metadata": {},
   "outputs": [],
   "source": [
    "land_and_mm = own_land[own_land.mobile_money == 1]\n",
    "land_only = own_land[own_land.mobile_money == 0]\n"
   ]
  },
  {
   "cell_type": "code",
   "execution_count": 20,
   "metadata": {},
   "outputs": [],
   "source": [
    "no_land_and_mm = no_land[no_land.mobile_money == 1]\n",
    "no_land_only = no_land[no_land.mobile_money == 0]"
   ]
  },
  {
   "cell_type": "code",
   "execution_count": 21,
   "metadata": {},
   "outputs": [
    {
     "data": {
      "image/png": "[encoded data removed]",
      "text/plain": [
       "<Figure size 432x288 with 2 Axes>"
      ]
     },
     "metadata": {},
     "output_type": "display_data"
    }
   ],
   "source": [
    "# People with land\n",
    "plt.subplot(1,2,1)\n",
    "total = len(land_and_mm) + len(land_only)\n",
    "y = len(land_and_mm) / total * 100\n",
    "z = len(land_only) /total * 100\n",
    "plt.pie([y, z], explode=(0,0.1),labels=['mobile money', 'no mobile money'],autopct='%1.1f%%')\n",
    "plt.title('Land')\n",
    "\n",
    "# People without land\n",
    "plt.subplot(1,2,2)\n",
    "total = len(no_land_and_mm) + len(no_land_only)\n",
    "y = len(no_land_and_mm) / total * 100\n",
    "z = len(no_land_only) /total * 100\n",
    "plt.pie([y, z], explode=(0,0.1),labels=['mobile money', 'no mobile money'],autopct='%1.1f%%')\n",
    "plt.title('No Land')\n",
    "\n",
    "plt.show()"
   ]
  },
  {
   "cell_type": "code",
   "execution_count": 22,
   "metadata": {},
   "outputs": [],
   "source": [
    "# Access to mobile phones\n",
    "has_phone = tanzania_data[tanzania_data.Q7 == 1]\n",
    "no_phone = tanzania_data[tanzania_data.Q7 == 2]"
   ]
  },
  {
   "cell_type": "code",
   "execution_count": 23,
   "metadata": {},
   "outputs": [
    {
     "data": {
      "image/png": "[encoded data removed]",
      "text/plain": [
       "<Figure size 432x288 with 2 Axes>"
      ]
     },
     "metadata": {
      "needs_background": "light"
     },
     "output_type": "display_data"
    }
   ],
   "source": [
    "# Ages with mobile mone\n",
    "ages_with_mm = tanzania_data[tanzania_data.mobile_money == 1]\n",
    "ages_without_mm = tanzania_data[tanzania_data.mobile_money == 0]\n",
    "\n",
    "plt.subplot(2, 1, 1)\n",
    "plt.title('Ages with Mobile Money')\n",
    "plt.hist(ages_with_mm.Q1, color='orange')\n",
    "\n",
    "plt.subplot(2, 1, 2)\n",
    "plt.title('Ages without Mobile Money')\n",
    "plt.hist(ages_without_mm.Q1)\n",
    "\n",
    "plt.show()"
   ]
  },
  {
   "cell_type": "code",
   "execution_count": 24,
   "metadata": {},
   "outputs": [
    {
     "data": {
      "text/plain": [
       "4271"
      ]
     },
     "execution_count": 24,
     "metadata": {},
     "output_type": "execute_result"
    }
   ],
   "source": [
    "len(has_phone)"
   ]
  },
  {
   "cell_type": "code",
   "execution_count": 25,
   "metadata": {},
   "outputs": [
    {
     "data": {
      "text/plain": [
       "2823"
      ]
     },
     "execution_count": 25,
     "metadata": {},
     "output_type": "execute_result"
    }
   ],
   "source": [
    "len(no_phone)"
   ]
  },
  {
   "cell_type": "code",
   "execution_count": null,
   "metadata": {},
   "outputs": [],
   "source": []
  }
 ],
 "metadata": {
  "kernelspec": {
   "display_name": "Python 3",
   "language": "python",
   "name": "python3"
  },
  "language_info": {
   "codemirror_mode": {
    "name": "ipython",
    "version": 3
   },
   "file_extension": ".py",
   "mimetype": "text/x-python",
   "name": "python",
   "nbconvert_exporter": "python",
   "pygments_lexer": "ipython3",
   "version": "3.7.3"
  }
 },
 "nbformat": 4,
 "nbformat_minor": 2
}
